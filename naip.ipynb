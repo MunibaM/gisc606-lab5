{
 "cells": [
  {
   "cell_type": "code",
   "execution_count": null,
   "metadata": {},
   "outputs": [],
   "source": [
    "import os\n",
    "\n",
    "import matplotlib.pyplot as plt\n",
    "import numpy as np\n",
    "import rioxarray as rxr\n",
    "import geopandas as gpd\n",
    "import earthpy as et\n",
    "import earthpy.plot as ep\n",
    "import earthpy.spatial as es\n",
    "\n",
    "# Get the data\n",
    "data = et.data.get_data('cold-springs-fire')\n",
    "\n",
    "# Set working directory\n",
    "os.chdir(os.path.join(et.io.HOME, 'earth-analytics', 'data'))\n",
    "\n",
    "plt.rcParams['figure.figsize'] = (10, 10)\n",
    "plt.rcParams['axes.titlesize'] = 20"
   ]
  },
  {
   "cell_type": "code",
   "execution_count": null,
   "metadata": {},
   "outputs": [],
   "source": [
    "naip_csf_path = os.path.join(\"cold-springs-fire\", \n",
    "                             \"naip\", \n",
    "                             \"m_3910505_nw_13_1_20150919\", \n",
    "                             \"crop\", \n",
    "                             \"m_3910505_nw_13_1_20150919_crop.tif\")\n",
    "\n",
    "naip_csf = rxr.open_rasterio(naip_csf_path, masked=True)\n",
    "naip_csf"
   ]
  },
  {
   "cell_type": "code",
   "execution_count": null,
   "metadata": {},
   "outputs": [],
   "source": [
    "naip_csf.shape"
   ]
  },
  {
   "cell_type": "code",
   "execution_count": null,
   "metadata": {},
   "outputs": [],
   "source": [
    "fig, ax = plt.subplots()\n",
    "\n",
    "ax.imshow(naip_csf[0], \n",
    "          cmap=\"Greys_r\")\n",
    "ax.set_title(\"NAIP RGB Imagery Band 1 Red \\nCold Springs Fire Scar\")\n",
    "ax.set_axis_off()\n",
    "plt.show()"
   ]
  },
  {
   "cell_type": "code",
   "execution_count": null,
   "metadata": {},
   "outputs": [],
   "source": [
    "ep.plot_bands(naip_csf[0],\n",
    "              title=\"NAIP RGB Imagery - Band 1-Red\\nCold Springs Fire Scar\",\n",
    "              cbar=False)\n",
    "plt.show()"
   ]
  },
  {
   "cell_type": "code",
   "execution_count": null,
   "metadata": {},
   "outputs": [],
   "source": [
    "naip_csf.band"
   ]
  },
  {
   "cell_type": "code",
   "execution_count": null,
   "metadata": {},
   "outputs": [],
   "source": [
    "# View min and max value\n",
    "print(naip_csf.min())\n",
    "print(naip_csf.max())"
   ]
  },
  {
   "cell_type": "code",
   "execution_count": null,
   "metadata": {},
   "outputs": [],
   "source": [
    "# Plot band 2 - green\n",
    "ep.plot_bands(naip_csf[1],\n",
    "              title=\"RGB Imagery - Band 2 - Green\\nCold Springs Fire Scar\",\n",
    "              cbar=False)\n",
    "plt.show()"
   ]
  },
  {
   "cell_type": "code",
   "execution_count": null,
   "metadata": {},
   "outputs": [],
   "source": [
    "titles = [\"Red Band\", \"Green Band\", \"Blue Band\", \"Near Infrared (NIR) Band\"]\n",
    "\n",
    "# Plot all bands using the earthpy function\n",
    "ep.plot_bands(naip_csf, \n",
    "              figsize=(12, 5), \n",
    "              cols=2,\n",
    "              title=titles,\n",
    "              cbar=False)\n",
    "plt.show()"
   ]
  },
  {
   "cell_type": "code",
   "execution_count": null,
   "metadata": {},
   "outputs": [],
   "source": [
    "ep.plot_rgb(naip_csf.values,\n",
    "            rgb=[0, 1, 2],\n",
    "            title=\"RGB Composite image - NAIP\")\n",
    "plt.show()"
   ]
  },
  {
   "cell_type": "code",
   "execution_count": null,
   "metadata": {},
   "outputs": [],
   "source": [
    "ep.plot_rgb(naip_csf.values, title=\"CIR NAIP image\",\n",
    "            rgb=[3, 0, 1],\n",
    "            figsize=(10, 8))\n",
    "plt.show()"
   ]
  },
  {
   "cell_type": "code",
   "execution_count": null,
   "metadata": {},
   "outputs": [],
   "source": [
    "titles = ['red', 'green', 'near\\ninfrared']\n",
    "ep.plot_bands(naip_csf[[0, 1, 3]],\n",
    "              figsize=(10,  7),\n",
    "              title=titles,\n",
    "              cbar=False)\n",
    "plt.show()"
   ]
  },
  {
   "cell_type": "code",
   "execution_count": null,
   "metadata": {},
   "outputs": [],
   "source": [
    "band_indices = [0, 1, 2]\n",
    "\n",
    "# Apply stretch using the earthpy plot_rgb function\n",
    "ep.plot_rgb(naip_csf.values,\n",
    "            rgb=band_indices,\n",
    "            title=\"RGB NAIP image\\n Stretch Applied\",\n",
    "            figsize=(10, 8),\n",
    "            stretch=True)\n",
    "plt.show()"
   ]
  },
  {
   "cell_type": "code",
   "execution_count": null,
   "metadata": {},
   "outputs": [],
   "source": [
    "# Create a colors and titles list to use in the histogram, then plot\n",
    "colors = ['r', 'g', 'b', 'k']\n",
    "titles = ['red band', 'green band', 'blue band', 'near-infrared band']\n",
    "\n",
    "ep.hist(naip_csf.values, \n",
    "        colors=colors, \n",
    "        title=titles, \n",
    "        cols=2)\n",
    "\n",
    "plt.show()"
   ]
  }
 ],
 "metadata": {
  "language_info": {
   "name": "python"
  }
 },
 "nbformat": 4,
 "nbformat_minor": 2
}
